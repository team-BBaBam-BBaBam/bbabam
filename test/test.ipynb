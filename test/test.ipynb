{
 "cells": [
  {
   "cell_type": "code",
   "execution_count": 1,
   "metadata": {},
   "outputs": [],
   "source": [
    "from bbabam.database import save_multiple_data"
   ]
  },
  {
   "cell_type": "code",
   "execution_count": 2,
   "metadata": {},
   "outputs": [],
   "source": [
    "data_list = [\n",
    "    {'keywords': \"dawd\", 'contents': [{\"text\":\"0000\", \"link\":\"11\"}, {\"text\":\"0000\", \"link\":\"11\"}]},\n",
    "    {'keywords': \"awd\", 'contents': [{\"text\":\"0000\", \"link\":\"11\"}, {\"text\":\"0000\", \"link\":\"11\"}]},\n",
    "    {'keywords': \"dawfa\", 'contents': [{\"text\":\"0000\", \"link\":\"11\"}, {\"text\":\"0000\", \"link\":\"11\"}]},\n",
    "    # more data...\n",
    "]\n"
   ]
  },
  {
   "cell_type": "code",
   "execution_count": 3,
   "metadata": {},
   "outputs": [
    {
     "ename": "StatementError",
     "evalue": "(builtins.TypeError) SQLite DateTime type only accepts Python datetime and date objects as input.\n[SQL: INSERT INTO data (user_input, keyword, text, link, \"createAt\") VALUES (?, ?, ?, ?, ?)]\n[parameters: [{'user_input': 'dawd', 'createAt': <built-in method now of type object at 0x10749c978>, 'link': '11', 'keyword': 'dawd', 'text': '0000'}]]",
     "output_type": "error",
     "traceback": [
      "\u001b[0;31m---------------------------------------------------------------------------\u001b[0m",
      "\u001b[0;31mTypeError\u001b[0m                                 Traceback (most recent call last)",
      "File \u001b[0;32m/opt/homebrew/lib/python3.11/site-packages/sqlalchemy/engine/base.py:1800\u001b[0m, in \u001b[0;36mConnection._execute_context\u001b[0;34m(self, dialect, constructor, statement, parameters, execution_options, *args, **kw)\u001b[0m\n\u001b[1;32m   1798\u001b[0m         conn \u001b[39m=\u001b[39m \u001b[39mself\u001b[39m\u001b[39m.\u001b[39m_revalidate_connection()\n\u001b[0;32m-> 1800\u001b[0m     context \u001b[39m=\u001b[39m constructor(\n\u001b[1;32m   1801\u001b[0m         dialect, \u001b[39mself\u001b[39;49m, conn, execution_options, \u001b[39m*\u001b[39;49margs, \u001b[39m*\u001b[39;49m\u001b[39m*\u001b[39;49mkw\n\u001b[1;32m   1802\u001b[0m     )\n\u001b[1;32m   1803\u001b[0m \u001b[39mexcept\u001b[39;00m (exc\u001b[39m.\u001b[39mPendingRollbackError, exc\u001b[39m.\u001b[39mResourceClosedError):\n",
      "File \u001b[0;32m/opt/homebrew/lib/python3.11/site-packages/sqlalchemy/engine/default.py:1076\u001b[0m, in \u001b[0;36mDefaultExecutionContext._init_compiled\u001b[0;34m(cls, dialect, connection, dbapi_connection, execution_options, compiled, parameters, invoked_statement, extracted_parameters, cache_hit)\u001b[0m\n\u001b[1;32m   1075\u001b[0m \u001b[39mfor\u001b[39;00m compiled_params \u001b[39min\u001b[39;00m \u001b[39mself\u001b[39m\u001b[39m.\u001b[39mcompiled_parameters:\n\u001b[0;32m-> 1076\u001b[0m     param \u001b[39m=\u001b[39m [\n\u001b[1;32m   1077\u001b[0m         processors[key](compiled_params[key])\n\u001b[1;32m   1078\u001b[0m         \u001b[39mif\u001b[39;49;00m key \u001b[39min\u001b[39;49;00m processors\n\u001b[1;32m   1079\u001b[0m         \u001b[39melse\u001b[39;49;00m compiled_params[key]\n\u001b[1;32m   1080\u001b[0m         \u001b[39mfor\u001b[39;49;00m key \u001b[39min\u001b[39;49;00m positiontup\n\u001b[1;32m   1081\u001b[0m     ]\n\u001b[1;32m   1082\u001b[0m     parameters\u001b[39m.\u001b[39mappend(dialect\u001b[39m.\u001b[39mexecute_sequence_format(param))\n",
      "File \u001b[0;32m/opt/homebrew/lib/python3.11/site-packages/sqlalchemy/engine/default.py:1077\u001b[0m, in \u001b[0;36m<listcomp>\u001b[0;34m(.0)\u001b[0m\n\u001b[1;32m   1075\u001b[0m \u001b[39mfor\u001b[39;00m compiled_params \u001b[39min\u001b[39;00m \u001b[39mself\u001b[39m\u001b[39m.\u001b[39mcompiled_parameters:\n\u001b[1;32m   1076\u001b[0m     param \u001b[39m=\u001b[39m [\n\u001b[0;32m-> 1077\u001b[0m         processors[key](compiled_params[key])\n\u001b[1;32m   1078\u001b[0m         \u001b[39mif\u001b[39;00m key \u001b[39min\u001b[39;00m processors\n\u001b[1;32m   1079\u001b[0m         \u001b[39melse\u001b[39;00m compiled_params[key]\n\u001b[1;32m   1080\u001b[0m         \u001b[39mfor\u001b[39;00m key \u001b[39min\u001b[39;00m positiontup\n\u001b[1;32m   1081\u001b[0m     ]\n\u001b[1;32m   1082\u001b[0m     parameters\u001b[39m.\u001b[39mappend(dialect\u001b[39m.\u001b[39mexecute_sequence_format(param))\n",
      "File \u001b[0;32m/opt/homebrew/lib/python3.11/site-packages/sqlalchemy/dialects/sqlite/base.py:1003\u001b[0m, in \u001b[0;36mDATETIME.bind_processor.<locals>.process\u001b[0;34m(value)\u001b[0m\n\u001b[1;32m   1002\u001b[0m \u001b[39melse\u001b[39;00m:\n\u001b[0;32m-> 1003\u001b[0m     \u001b[39mraise\u001b[39;00m \u001b[39mTypeError\u001b[39;00m(\n\u001b[1;32m   1004\u001b[0m         \u001b[39m\"\u001b[39m\u001b[39mSQLite DateTime type only accepts Python \u001b[39m\u001b[39m\"\u001b[39m\n\u001b[1;32m   1005\u001b[0m         \u001b[39m\"\u001b[39m\u001b[39mdatetime and date objects as input.\u001b[39m\u001b[39m\"\u001b[39m\n\u001b[1;32m   1006\u001b[0m     )\n",
      "\u001b[0;31mTypeError\u001b[0m: SQLite DateTime type only accepts Python datetime and date objects as input.",
      "\nThe above exception was the direct cause of the following exception:\n",
      "\u001b[0;31mStatementError\u001b[0m                            Traceback (most recent call last)",
      "Cell \u001b[0;32mIn[3], line 2\u001b[0m\n\u001b[1;32m      1\u001b[0m \u001b[39mfor\u001b[39;00m data \u001b[39min\u001b[39;00m data_list:\n\u001b[0;32m----> 2\u001b[0m             save_multiple_data(\n\u001b[1;32m      3\u001b[0m                     \n\u001b[1;32m      4\u001b[0m                 keyword\u001b[39m=\u001b[39;49mdata[\u001b[39m\"\u001b[39;49m\u001b[39mkeywords\u001b[39;49m\u001b[39m\"\u001b[39;49m],\n\u001b[1;32m      5\u001b[0m                 user_input\u001b[39m=\u001b[39;49m\u001b[39m\"\u001b[39;49m\u001b[39mdawd\u001b[39;49m\u001b[39m\"\u001b[39;49m,\n\u001b[1;32m      6\u001b[0m                 data_list\u001b[39m=\u001b[39;49mdata[\u001b[39m\"\u001b[39;49m\u001b[39mcontents\u001b[39;49m\u001b[39m\"\u001b[39;49m],\n\u001b[1;32m      7\u001b[0m             )\n",
      "File \u001b[0;32m~/Desktop/bbabam/bbabam/database/controller.py:34\u001b[0m, in \u001b[0;36msave_multiple_data\u001b[0;34m(user_input, keyword, data_list)\u001b[0m\n\u001b[1;32m     32\u001b[0m     data_model \u001b[39m=\u001b[39m Data(\u001b[39m*\u001b[39m\u001b[39m*\u001b[39mdata)\n\u001b[1;32m     33\u001b[0m     session\u001b[39m.\u001b[39madd(data_model)\n\u001b[0;32m---> 34\u001b[0m session\u001b[39m.\u001b[39;49mcommit()\n",
      "File \u001b[0;32m/opt/homebrew/lib/python3.11/site-packages/sqlalchemy/orm/session.py:1451\u001b[0m, in \u001b[0;36mSession.commit\u001b[0;34m(self)\u001b[0m\n\u001b[1;32m   1448\u001b[0m     \u001b[39mif\u001b[39;00m \u001b[39mnot\u001b[39;00m \u001b[39mself\u001b[39m\u001b[39m.\u001b[39m_autobegin():\n\u001b[1;32m   1449\u001b[0m         \u001b[39mraise\u001b[39;00m sa_exc\u001b[39m.\u001b[39mInvalidRequestError(\u001b[39m\"\u001b[39m\u001b[39mNo transaction is begun.\u001b[39m\u001b[39m\"\u001b[39m)\n\u001b[0;32m-> 1451\u001b[0m \u001b[39mself\u001b[39;49m\u001b[39m.\u001b[39;49m_transaction\u001b[39m.\u001b[39;49mcommit(_to_root\u001b[39m=\u001b[39;49m\u001b[39mself\u001b[39;49m\u001b[39m.\u001b[39;49mfuture)\n",
      "File \u001b[0;32m/opt/homebrew/lib/python3.11/site-packages/sqlalchemy/orm/session.py:829\u001b[0m, in \u001b[0;36mSessionTransaction.commit\u001b[0;34m(self, _to_root)\u001b[0m\n\u001b[1;32m    827\u001b[0m \u001b[39mself\u001b[39m\u001b[39m.\u001b[39m_assert_active(prepared_ok\u001b[39m=\u001b[39m\u001b[39mTrue\u001b[39;00m)\n\u001b[1;32m    828\u001b[0m \u001b[39mif\u001b[39;00m \u001b[39mself\u001b[39m\u001b[39m.\u001b[39m_state \u001b[39mis\u001b[39;00m \u001b[39mnot\u001b[39;00m PREPARED:\n\u001b[0;32m--> 829\u001b[0m     \u001b[39mself\u001b[39;49m\u001b[39m.\u001b[39;49m_prepare_impl()\n\u001b[1;32m    831\u001b[0m \u001b[39mif\u001b[39;00m \u001b[39mself\u001b[39m\u001b[39m.\u001b[39m_parent \u001b[39mis\u001b[39;00m \u001b[39mNone\u001b[39;00m \u001b[39mor\u001b[39;00m \u001b[39mself\u001b[39m\u001b[39m.\u001b[39mnested:\n\u001b[1;32m    832\u001b[0m     \u001b[39mfor\u001b[39;00m conn, trans, should_commit, autoclose \u001b[39min\u001b[39;00m \u001b[39mset\u001b[39m(\n\u001b[1;32m    833\u001b[0m         \u001b[39mself\u001b[39m\u001b[39m.\u001b[39m_connections\u001b[39m.\u001b[39mvalues()\n\u001b[1;32m    834\u001b[0m     ):\n",
      "File \u001b[0;32m/opt/homebrew/lib/python3.11/site-packages/sqlalchemy/orm/session.py:808\u001b[0m, in \u001b[0;36mSessionTransaction._prepare_impl\u001b[0;34m(self)\u001b[0m\n\u001b[1;32m    806\u001b[0m     \u001b[39mif\u001b[39;00m \u001b[39mself\u001b[39m\u001b[39m.\u001b[39msession\u001b[39m.\u001b[39m_is_clean():\n\u001b[1;32m    807\u001b[0m         \u001b[39mbreak\u001b[39;00m\n\u001b[0;32m--> 808\u001b[0m     \u001b[39mself\u001b[39;49m\u001b[39m.\u001b[39;49msession\u001b[39m.\u001b[39;49mflush()\n\u001b[1;32m    809\u001b[0m \u001b[39melse\u001b[39;00m:\n\u001b[1;32m    810\u001b[0m     \u001b[39mraise\u001b[39;00m exc\u001b[39m.\u001b[39mFlushError(\n\u001b[1;32m    811\u001b[0m         \u001b[39m\"\u001b[39m\u001b[39mOver 100 subsequent flushes have occurred within \u001b[39m\u001b[39m\"\u001b[39m\n\u001b[1;32m    812\u001b[0m         \u001b[39m\"\u001b[39m\u001b[39msession.commit() - is an after_flush() hook \u001b[39m\u001b[39m\"\u001b[39m\n\u001b[1;32m    813\u001b[0m         \u001b[39m\"\u001b[39m\u001b[39mcreating new objects?\u001b[39m\u001b[39m\"\u001b[39m\n\u001b[1;32m    814\u001b[0m     )\n",
      "File \u001b[0;32m/opt/homebrew/lib/python3.11/site-packages/sqlalchemy/orm/session.py:3386\u001b[0m, in \u001b[0;36mSession.flush\u001b[0;34m(self, objects)\u001b[0m\n\u001b[1;32m   3384\u001b[0m \u001b[39mtry\u001b[39;00m:\n\u001b[1;32m   3385\u001b[0m     \u001b[39mself\u001b[39m\u001b[39m.\u001b[39m_flushing \u001b[39m=\u001b[39m \u001b[39mTrue\u001b[39;00m\n\u001b[0;32m-> 3386\u001b[0m     \u001b[39mself\u001b[39;49m\u001b[39m.\u001b[39;49m_flush(objects)\n\u001b[1;32m   3387\u001b[0m \u001b[39mfinally\u001b[39;00m:\n\u001b[1;32m   3388\u001b[0m     \u001b[39mself\u001b[39m\u001b[39m.\u001b[39m_flushing \u001b[39m=\u001b[39m \u001b[39mFalse\u001b[39;00m\n",
      "File \u001b[0;32m/opt/homebrew/lib/python3.11/site-packages/sqlalchemy/orm/session.py:3525\u001b[0m, in \u001b[0;36mSession._flush\u001b[0;34m(self, objects)\u001b[0m\n\u001b[1;32m   3522\u001b[0m     transaction\u001b[39m.\u001b[39mcommit()\n\u001b[1;32m   3524\u001b[0m \u001b[39mexcept\u001b[39;00m:\n\u001b[0;32m-> 3525\u001b[0m     \u001b[39mwith\u001b[39;49;00m util\u001b[39m.\u001b[39;49msafe_reraise():\n\u001b[1;32m   3526\u001b[0m         transaction\u001b[39m.\u001b[39;49mrollback(_capture_exception\u001b[39m=\u001b[39;49m\u001b[39mTrue\u001b[39;49;00m)\n",
      "File \u001b[0;32m/opt/homebrew/lib/python3.11/site-packages/sqlalchemy/util/langhelpers.py:70\u001b[0m, in \u001b[0;36msafe_reraise.__exit__\u001b[0;34m(self, type_, value, traceback)\u001b[0m\n\u001b[1;32m     68\u001b[0m     \u001b[39mself\u001b[39m\u001b[39m.\u001b[39m_exc_info \u001b[39m=\u001b[39m \u001b[39mNone\u001b[39;00m  \u001b[39m# remove potential circular references\u001b[39;00m\n\u001b[1;32m     69\u001b[0m     \u001b[39mif\u001b[39;00m \u001b[39mnot\u001b[39;00m \u001b[39mself\u001b[39m\u001b[39m.\u001b[39mwarn_only:\n\u001b[0;32m---> 70\u001b[0m         compat\u001b[39m.\u001b[39;49mraise_(\n\u001b[1;32m     71\u001b[0m             exc_value,\n\u001b[1;32m     72\u001b[0m             with_traceback\u001b[39m=\u001b[39;49mexc_tb,\n\u001b[1;32m     73\u001b[0m         )\n\u001b[1;32m     74\u001b[0m \u001b[39melse\u001b[39;00m:\n\u001b[1;32m     75\u001b[0m     \u001b[39mif\u001b[39;00m \u001b[39mnot\u001b[39;00m compat\u001b[39m.\u001b[39mpy3k \u001b[39mand\u001b[39;00m \u001b[39mself\u001b[39m\u001b[39m.\u001b[39m_exc_info \u001b[39mand\u001b[39;00m \u001b[39mself\u001b[39m\u001b[39m.\u001b[39m_exc_info[\u001b[39m1\u001b[39m]:\n\u001b[1;32m     76\u001b[0m         \u001b[39m# emulate Py3K's behavior of telling us when an exception\u001b[39;00m\n\u001b[1;32m     77\u001b[0m         \u001b[39m# occurs in an exception handler.\u001b[39;00m\n",
      "File \u001b[0;32m/opt/homebrew/lib/python3.11/site-packages/sqlalchemy/util/compat.py:208\u001b[0m, in \u001b[0;36mraise_\u001b[0;34m(***failed resolving arguments***)\u001b[0m\n\u001b[1;32m    205\u001b[0m     exception\u001b[39m.\u001b[39m__cause__ \u001b[39m=\u001b[39m replace_context\n\u001b[1;32m    207\u001b[0m \u001b[39mtry\u001b[39;00m:\n\u001b[0;32m--> 208\u001b[0m     \u001b[39mraise\u001b[39;00m exception\n\u001b[1;32m    209\u001b[0m \u001b[39mfinally\u001b[39;00m:\n\u001b[1;32m    210\u001b[0m     \u001b[39m# credit to\u001b[39;00m\n\u001b[1;32m    211\u001b[0m     \u001b[39m# https://cosmicpercolator.com/2016/01/13/exception-leaks-in-python-2-and-3/\u001b[39;00m\n\u001b[1;32m    212\u001b[0m     \u001b[39m# as the __traceback__ object creates a cycle\u001b[39;00m\n\u001b[1;32m    213\u001b[0m     \u001b[39mdel\u001b[39;00m exception, replace_context, from_, with_traceback\n",
      "File \u001b[0;32m/opt/homebrew/lib/python3.11/site-packages/sqlalchemy/orm/session.py:3486\u001b[0m, in \u001b[0;36mSession._flush\u001b[0;34m(self, objects)\u001b[0m\n\u001b[1;32m   3484\u001b[0m \u001b[39mself\u001b[39m\u001b[39m.\u001b[39m_warn_on_events \u001b[39m=\u001b[39m \u001b[39mTrue\u001b[39;00m\n\u001b[1;32m   3485\u001b[0m \u001b[39mtry\u001b[39;00m:\n\u001b[0;32m-> 3486\u001b[0m     flush_context\u001b[39m.\u001b[39;49mexecute()\n\u001b[1;32m   3487\u001b[0m \u001b[39mfinally\u001b[39;00m:\n\u001b[1;32m   3488\u001b[0m     \u001b[39mself\u001b[39m\u001b[39m.\u001b[39m_warn_on_events \u001b[39m=\u001b[39m \u001b[39mFalse\u001b[39;00m\n",
      "File \u001b[0;32m/opt/homebrew/lib/python3.11/site-packages/sqlalchemy/orm/unitofwork.py:456\u001b[0m, in \u001b[0;36mUOWTransaction.execute\u001b[0;34m(self)\u001b[0m\n\u001b[1;32m    454\u001b[0m \u001b[39melse\u001b[39;00m:\n\u001b[1;32m    455\u001b[0m     \u001b[39mfor\u001b[39;00m rec \u001b[39min\u001b[39;00m topological\u001b[39m.\u001b[39msort(\u001b[39mself\u001b[39m\u001b[39m.\u001b[39mdependencies, postsort_actions):\n\u001b[0;32m--> 456\u001b[0m         rec\u001b[39m.\u001b[39;49mexecute(\u001b[39mself\u001b[39;49m)\n",
      "File \u001b[0;32m/opt/homebrew/lib/python3.11/site-packages/sqlalchemy/orm/unitofwork.py:630\u001b[0m, in \u001b[0;36mSaveUpdateAll.execute\u001b[0;34m(self, uow)\u001b[0m\n\u001b[1;32m    628\u001b[0m \u001b[39m@util\u001b[39m\u001b[39m.\u001b[39mpreload_module(\u001b[39m\"\u001b[39m\u001b[39msqlalchemy.orm.persistence\u001b[39m\u001b[39m\"\u001b[39m)\n\u001b[1;32m    629\u001b[0m \u001b[39mdef\u001b[39;00m \u001b[39mexecute\u001b[39m(\u001b[39mself\u001b[39m, uow):\n\u001b[0;32m--> 630\u001b[0m     util\u001b[39m.\u001b[39;49mpreloaded\u001b[39m.\u001b[39;49morm_persistence\u001b[39m.\u001b[39;49msave_obj(\n\u001b[1;32m    631\u001b[0m         \u001b[39mself\u001b[39;49m\u001b[39m.\u001b[39;49mmapper,\n\u001b[1;32m    632\u001b[0m         uow\u001b[39m.\u001b[39;49mstates_for_mapper_hierarchy(\u001b[39mself\u001b[39;49m\u001b[39m.\u001b[39;49mmapper, \u001b[39mFalse\u001b[39;49;00m, \u001b[39mFalse\u001b[39;49;00m),\n\u001b[1;32m    633\u001b[0m         uow,\n\u001b[1;32m    634\u001b[0m     )\n",
      "File \u001b[0;32m/opt/homebrew/lib/python3.11/site-packages/sqlalchemy/orm/persistence.py:245\u001b[0m, in \u001b[0;36msave_obj\u001b[0;34m(base_mapper, states, uowtransaction, single)\u001b[0m\n\u001b[1;32m    233\u001b[0m     update \u001b[39m=\u001b[39m _collect_update_commands(\n\u001b[1;32m    234\u001b[0m         uowtransaction, table, states_to_update\n\u001b[1;32m    235\u001b[0m     )\n\u001b[1;32m    237\u001b[0m     _emit_update_statements(\n\u001b[1;32m    238\u001b[0m         base_mapper,\n\u001b[1;32m    239\u001b[0m         uowtransaction,\n\u001b[0;32m   (...)\u001b[0m\n\u001b[1;32m    242\u001b[0m         update,\n\u001b[1;32m    243\u001b[0m     )\n\u001b[0;32m--> 245\u001b[0m     _emit_insert_statements(\n\u001b[1;32m    246\u001b[0m         base_mapper,\n\u001b[1;32m    247\u001b[0m         uowtransaction,\n\u001b[1;32m    248\u001b[0m         mapper,\n\u001b[1;32m    249\u001b[0m         table,\n\u001b[1;32m    250\u001b[0m         insert,\n\u001b[1;32m    251\u001b[0m     )\n\u001b[1;32m    253\u001b[0m _finalize_insert_update_commands(\n\u001b[1;32m    254\u001b[0m     base_mapper,\n\u001b[1;32m    255\u001b[0m     uowtransaction,\n\u001b[0;32m   (...)\u001b[0m\n\u001b[1;32m    271\u001b[0m     ),\n\u001b[1;32m    272\u001b[0m )\n",
      "File \u001b[0;32m/opt/homebrew/lib/python3.11/site-packages/sqlalchemy/orm/persistence.py:1238\u001b[0m, in \u001b[0;36m_emit_insert_statements\u001b[0;34m(base_mapper, uowtransaction, mapper, table, insert, bookkeeping)\u001b[0m\n\u001b[1;32m   1232\u001b[0m     result \u001b[39m=\u001b[39m connection\u001b[39m.\u001b[39m_execute_20(\n\u001b[1;32m   1233\u001b[0m         statement\u001b[39m.\u001b[39mvalues(value_params),\n\u001b[1;32m   1234\u001b[0m         params,\n\u001b[1;32m   1235\u001b[0m         execution_options\u001b[39m=\u001b[39mexecution_options,\n\u001b[1;32m   1236\u001b[0m     )\n\u001b[1;32m   1237\u001b[0m \u001b[39melse\u001b[39;00m:\n\u001b[0;32m-> 1238\u001b[0m     result \u001b[39m=\u001b[39m connection\u001b[39m.\u001b[39;49m_execute_20(\n\u001b[1;32m   1239\u001b[0m         statement,\n\u001b[1;32m   1240\u001b[0m         params,\n\u001b[1;32m   1241\u001b[0m         execution_options\u001b[39m=\u001b[39;49mexecution_options,\n\u001b[1;32m   1242\u001b[0m     )\n\u001b[1;32m   1244\u001b[0m primary_key \u001b[39m=\u001b[39m result\u001b[39m.\u001b[39minserted_primary_key\n\u001b[1;32m   1245\u001b[0m \u001b[39mif\u001b[39;00m primary_key \u001b[39mis\u001b[39;00m \u001b[39mNone\u001b[39;00m:\n",
      "File \u001b[0;32m/opt/homebrew/lib/python3.11/site-packages/sqlalchemy/engine/base.py:1705\u001b[0m, in \u001b[0;36mConnection._execute_20\u001b[0;34m(self, statement, parameters, execution_options)\u001b[0m\n\u001b[1;32m   1701\u001b[0m     util\u001b[39m.\u001b[39mraise_(\n\u001b[1;32m   1702\u001b[0m         exc\u001b[39m.\u001b[39mObjectNotExecutableError(statement), replace_context\u001b[39m=\u001b[39merr\n\u001b[1;32m   1703\u001b[0m     )\n\u001b[1;32m   1704\u001b[0m \u001b[39melse\u001b[39;00m:\n\u001b[0;32m-> 1705\u001b[0m     \u001b[39mreturn\u001b[39;00m meth(\u001b[39mself\u001b[39;49m, args_10style, kwargs_10style, execution_options)\n",
      "File \u001b[0;32m/opt/homebrew/lib/python3.11/site-packages/sqlalchemy/sql/elements.py:333\u001b[0m, in \u001b[0;36mClauseElement._execute_on_connection\u001b[0;34m(self, connection, multiparams, params, execution_options, _force)\u001b[0m\n\u001b[1;32m    329\u001b[0m \u001b[39mdef\u001b[39;00m \u001b[39m_execute_on_connection\u001b[39m(\n\u001b[1;32m    330\u001b[0m     \u001b[39mself\u001b[39m, connection, multiparams, params, execution_options, _force\u001b[39m=\u001b[39m\u001b[39mFalse\u001b[39;00m\n\u001b[1;32m    331\u001b[0m ):\n\u001b[1;32m    332\u001b[0m     \u001b[39mif\u001b[39;00m _force \u001b[39mor\u001b[39;00m \u001b[39mself\u001b[39m\u001b[39m.\u001b[39msupports_execution:\n\u001b[0;32m--> 333\u001b[0m         \u001b[39mreturn\u001b[39;00m connection\u001b[39m.\u001b[39;49m_execute_clauseelement(\n\u001b[1;32m    334\u001b[0m             \u001b[39mself\u001b[39;49m, multiparams, params, execution_options\n\u001b[1;32m    335\u001b[0m         )\n\u001b[1;32m    336\u001b[0m     \u001b[39melse\u001b[39;00m:\n\u001b[1;32m    337\u001b[0m         \u001b[39mraise\u001b[39;00m exc\u001b[39m.\u001b[39mObjectNotExecutableError(\u001b[39mself\u001b[39m)\n",
      "File \u001b[0;32m/opt/homebrew/lib/python3.11/site-packages/sqlalchemy/engine/base.py:1572\u001b[0m, in \u001b[0;36mConnection._execute_clauseelement\u001b[0;34m(self, elem, multiparams, params, execution_options)\u001b[0m\n\u001b[1;32m   1560\u001b[0m compiled_cache \u001b[39m=\u001b[39m execution_options\u001b[39m.\u001b[39mget(\n\u001b[1;32m   1561\u001b[0m     \u001b[39m\"\u001b[39m\u001b[39mcompiled_cache\u001b[39m\u001b[39m\"\u001b[39m, \u001b[39mself\u001b[39m\u001b[39m.\u001b[39mengine\u001b[39m.\u001b[39m_compiled_cache\n\u001b[1;32m   1562\u001b[0m )\n\u001b[1;32m   1564\u001b[0m compiled_sql, extracted_params, cache_hit \u001b[39m=\u001b[39m elem\u001b[39m.\u001b[39m_compile_w_cache(\n\u001b[1;32m   1565\u001b[0m     dialect\u001b[39m=\u001b[39mdialect,\n\u001b[1;32m   1566\u001b[0m     compiled_cache\u001b[39m=\u001b[39mcompiled_cache,\n\u001b[0;32m   (...)\u001b[0m\n\u001b[1;32m   1570\u001b[0m     linting\u001b[39m=\u001b[39m\u001b[39mself\u001b[39m\u001b[39m.\u001b[39mdialect\u001b[39m.\u001b[39mcompiler_linting \u001b[39m|\u001b[39m compiler\u001b[39m.\u001b[39mWARN_LINTING,\n\u001b[1;32m   1571\u001b[0m )\n\u001b[0;32m-> 1572\u001b[0m ret \u001b[39m=\u001b[39m \u001b[39mself\u001b[39;49m\u001b[39m.\u001b[39;49m_execute_context(\n\u001b[1;32m   1573\u001b[0m     dialect,\n\u001b[1;32m   1574\u001b[0m     dialect\u001b[39m.\u001b[39;49mexecution_ctx_cls\u001b[39m.\u001b[39;49m_init_compiled,\n\u001b[1;32m   1575\u001b[0m     compiled_sql,\n\u001b[1;32m   1576\u001b[0m     distilled_params,\n\u001b[1;32m   1577\u001b[0m     execution_options,\n\u001b[1;32m   1578\u001b[0m     compiled_sql,\n\u001b[1;32m   1579\u001b[0m     distilled_params,\n\u001b[1;32m   1580\u001b[0m     elem,\n\u001b[1;32m   1581\u001b[0m     extracted_params,\n\u001b[1;32m   1582\u001b[0m     cache_hit\u001b[39m=\u001b[39;49mcache_hit,\n\u001b[1;32m   1583\u001b[0m )\n\u001b[1;32m   1584\u001b[0m \u001b[39mif\u001b[39;00m has_events:\n\u001b[1;32m   1585\u001b[0m     \u001b[39mself\u001b[39m\u001b[39m.\u001b[39mdispatch\u001b[39m.\u001b[39mafter_execute(\n\u001b[1;32m   1586\u001b[0m         \u001b[39mself\u001b[39m,\n\u001b[1;32m   1587\u001b[0m         elem,\n\u001b[0;32m   (...)\u001b[0m\n\u001b[1;32m   1591\u001b[0m         ret,\n\u001b[1;32m   1592\u001b[0m     )\n",
      "File \u001b[0;32m/opt/homebrew/lib/python3.11/site-packages/sqlalchemy/engine/base.py:1806\u001b[0m, in \u001b[0;36mConnection._execute_context\u001b[0;34m(self, dialect, constructor, statement, parameters, execution_options, *args, **kw)\u001b[0m\n\u001b[1;32m   1804\u001b[0m     \u001b[39mraise\u001b[39;00m\n\u001b[1;32m   1805\u001b[0m \u001b[39mexcept\u001b[39;00m \u001b[39mBaseException\u001b[39;00m \u001b[39mas\u001b[39;00m e:\n\u001b[0;32m-> 1806\u001b[0m     \u001b[39mself\u001b[39;49m\u001b[39m.\u001b[39;49m_handle_dbapi_exception(\n\u001b[1;32m   1807\u001b[0m         e, util\u001b[39m.\u001b[39;49mtext_type(statement), parameters, \u001b[39mNone\u001b[39;49;00m, \u001b[39mNone\u001b[39;49;00m\n\u001b[1;32m   1808\u001b[0m     )\n\u001b[1;32m   1810\u001b[0m \u001b[39mif\u001b[39;00m (\n\u001b[1;32m   1811\u001b[0m     \u001b[39mself\u001b[39m\u001b[39m.\u001b[39m_transaction\n\u001b[1;32m   1812\u001b[0m     \u001b[39mand\u001b[39;00m \u001b[39mnot\u001b[39;00m \u001b[39mself\u001b[39m\u001b[39m.\u001b[39m_transaction\u001b[39m.\u001b[39mis_active\n\u001b[0;32m   (...)\u001b[0m\n\u001b[1;32m   1816\u001b[0m     )\n\u001b[1;32m   1817\u001b[0m ):\n\u001b[1;32m   1818\u001b[0m     \u001b[39mself\u001b[39m\u001b[39m.\u001b[39m_invalid_transaction()\n",
      "File \u001b[0;32m/opt/homebrew/lib/python3.11/site-packages/sqlalchemy/engine/base.py:2124\u001b[0m, in \u001b[0;36mConnection._handle_dbapi_exception\u001b[0;34m(self, e, statement, parameters, cursor, context)\u001b[0m\n\u001b[1;32m   2122\u001b[0m     util\u001b[39m.\u001b[39mraise_(newraise, with_traceback\u001b[39m=\u001b[39mexc_info[\u001b[39m2\u001b[39m], from_\u001b[39m=\u001b[39me)\n\u001b[1;32m   2123\u001b[0m \u001b[39melif\u001b[39;00m should_wrap:\n\u001b[0;32m-> 2124\u001b[0m     util\u001b[39m.\u001b[39;49mraise_(\n\u001b[1;32m   2125\u001b[0m         sqlalchemy_exception, with_traceback\u001b[39m=\u001b[39;49mexc_info[\u001b[39m2\u001b[39;49m], from_\u001b[39m=\u001b[39;49me\n\u001b[1;32m   2126\u001b[0m     )\n\u001b[1;32m   2127\u001b[0m \u001b[39melse\u001b[39;00m:\n\u001b[1;32m   2128\u001b[0m     util\u001b[39m.\u001b[39mraise_(exc_info[\u001b[39m1\u001b[39m], with_traceback\u001b[39m=\u001b[39mexc_info[\u001b[39m2\u001b[39m])\n",
      "File \u001b[0;32m/opt/homebrew/lib/python3.11/site-packages/sqlalchemy/util/compat.py:208\u001b[0m, in \u001b[0;36mraise_\u001b[0;34m(***failed resolving arguments***)\u001b[0m\n\u001b[1;32m    205\u001b[0m     exception\u001b[39m.\u001b[39m__cause__ \u001b[39m=\u001b[39m replace_context\n\u001b[1;32m    207\u001b[0m \u001b[39mtry\u001b[39;00m:\n\u001b[0;32m--> 208\u001b[0m     \u001b[39mraise\u001b[39;00m exception\n\u001b[1;32m    209\u001b[0m \u001b[39mfinally\u001b[39;00m:\n\u001b[1;32m    210\u001b[0m     \u001b[39m# credit to\u001b[39;00m\n\u001b[1;32m    211\u001b[0m     \u001b[39m# https://cosmicpercolator.com/2016/01/13/exception-leaks-in-python-2-and-3/\u001b[39;00m\n\u001b[1;32m    212\u001b[0m     \u001b[39m# as the __traceback__ object creates a cycle\u001b[39;00m\n\u001b[1;32m    213\u001b[0m     \u001b[39mdel\u001b[39;00m exception, replace_context, from_, with_traceback\n",
      "File \u001b[0;32m/opt/homebrew/lib/python3.11/site-packages/sqlalchemy/engine/base.py:1800\u001b[0m, in \u001b[0;36mConnection._execute_context\u001b[0;34m(self, dialect, constructor, statement, parameters, execution_options, *args, **kw)\u001b[0m\n\u001b[1;32m   1797\u001b[0m     \u001b[39mif\u001b[39;00m conn \u001b[39mis\u001b[39;00m \u001b[39mNone\u001b[39;00m:\n\u001b[1;32m   1798\u001b[0m         conn \u001b[39m=\u001b[39m \u001b[39mself\u001b[39m\u001b[39m.\u001b[39m_revalidate_connection()\n\u001b[0;32m-> 1800\u001b[0m     context \u001b[39m=\u001b[39m constructor(\n\u001b[1;32m   1801\u001b[0m         dialect, \u001b[39mself\u001b[39;49m, conn, execution_options, \u001b[39m*\u001b[39;49margs, \u001b[39m*\u001b[39;49m\u001b[39m*\u001b[39;49mkw\n\u001b[1;32m   1802\u001b[0m     )\n\u001b[1;32m   1803\u001b[0m \u001b[39mexcept\u001b[39;00m (exc\u001b[39m.\u001b[39mPendingRollbackError, exc\u001b[39m.\u001b[39mResourceClosedError):\n\u001b[1;32m   1804\u001b[0m     \u001b[39mraise\u001b[39;00m\n",
      "File \u001b[0;32m/opt/homebrew/lib/python3.11/site-packages/sqlalchemy/engine/default.py:1076\u001b[0m, in \u001b[0;36mDefaultExecutionContext._init_compiled\u001b[0;34m(cls, dialect, connection, dbapi_connection, execution_options, compiled, parameters, invoked_statement, extracted_parameters, cache_hit)\u001b[0m\n\u001b[1;32m   1074\u001b[0m \u001b[39mif\u001b[39;00m compiled\u001b[39m.\u001b[39mpositional:\n\u001b[1;32m   1075\u001b[0m     \u001b[39mfor\u001b[39;00m compiled_params \u001b[39min\u001b[39;00m \u001b[39mself\u001b[39m\u001b[39m.\u001b[39mcompiled_parameters:\n\u001b[0;32m-> 1076\u001b[0m         param \u001b[39m=\u001b[39m [\n\u001b[1;32m   1077\u001b[0m             processors[key](compiled_params[key])\n\u001b[1;32m   1078\u001b[0m             \u001b[39mif\u001b[39;49;00m key \u001b[39min\u001b[39;49;00m processors\n\u001b[1;32m   1079\u001b[0m             \u001b[39melse\u001b[39;49;00m compiled_params[key]\n\u001b[1;32m   1080\u001b[0m             \u001b[39mfor\u001b[39;49;00m key \u001b[39min\u001b[39;49;00m positiontup\n\u001b[1;32m   1081\u001b[0m         ]\n\u001b[1;32m   1082\u001b[0m         parameters\u001b[39m.\u001b[39mappend(dialect\u001b[39m.\u001b[39mexecute_sequence_format(param))\n\u001b[1;32m   1083\u001b[0m \u001b[39melse\u001b[39;00m:\n",
      "File \u001b[0;32m/opt/homebrew/lib/python3.11/site-packages/sqlalchemy/engine/default.py:1077\u001b[0m, in \u001b[0;36m<listcomp>\u001b[0;34m(.0)\u001b[0m\n\u001b[1;32m   1074\u001b[0m \u001b[39mif\u001b[39;00m compiled\u001b[39m.\u001b[39mpositional:\n\u001b[1;32m   1075\u001b[0m     \u001b[39mfor\u001b[39;00m compiled_params \u001b[39min\u001b[39;00m \u001b[39mself\u001b[39m\u001b[39m.\u001b[39mcompiled_parameters:\n\u001b[1;32m   1076\u001b[0m         param \u001b[39m=\u001b[39m [\n\u001b[0;32m-> 1077\u001b[0m             processors[key](compiled_params[key])\n\u001b[1;32m   1078\u001b[0m             \u001b[39mif\u001b[39;00m key \u001b[39min\u001b[39;00m processors\n\u001b[1;32m   1079\u001b[0m             \u001b[39melse\u001b[39;00m compiled_params[key]\n\u001b[1;32m   1080\u001b[0m             \u001b[39mfor\u001b[39;00m key \u001b[39min\u001b[39;00m positiontup\n\u001b[1;32m   1081\u001b[0m         ]\n\u001b[1;32m   1082\u001b[0m         parameters\u001b[39m.\u001b[39mappend(dialect\u001b[39m.\u001b[39mexecute_sequence_format(param))\n\u001b[1;32m   1083\u001b[0m \u001b[39melse\u001b[39;00m:\n",
      "File \u001b[0;32m/opt/homebrew/lib/python3.11/site-packages/sqlalchemy/dialects/sqlite/base.py:1003\u001b[0m, in \u001b[0;36mDATETIME.bind_processor.<locals>.process\u001b[0;34m(value)\u001b[0m\n\u001b[1;32m    993\u001b[0m     \u001b[39mreturn\u001b[39;00m format_ \u001b[39m%\u001b[39m {\n\u001b[1;32m    994\u001b[0m         \u001b[39m\"\u001b[39m\u001b[39myear\u001b[39m\u001b[39m\"\u001b[39m: value\u001b[39m.\u001b[39myear,\n\u001b[1;32m    995\u001b[0m         \u001b[39m\"\u001b[39m\u001b[39mmonth\u001b[39m\u001b[39m\"\u001b[39m: value\u001b[39m.\u001b[39mmonth,\n\u001b[0;32m   (...)\u001b[0m\n\u001b[1;32m   1000\u001b[0m         \u001b[39m\"\u001b[39m\u001b[39mmicrosecond\u001b[39m\u001b[39m\"\u001b[39m: \u001b[39m0\u001b[39m,\n\u001b[1;32m   1001\u001b[0m     }\n\u001b[1;32m   1002\u001b[0m \u001b[39melse\u001b[39;00m:\n\u001b[0;32m-> 1003\u001b[0m     \u001b[39mraise\u001b[39;00m \u001b[39mTypeError\u001b[39;00m(\n\u001b[1;32m   1004\u001b[0m         \u001b[39m\"\u001b[39m\u001b[39mSQLite DateTime type only accepts Python \u001b[39m\u001b[39m\"\u001b[39m\n\u001b[1;32m   1005\u001b[0m         \u001b[39m\"\u001b[39m\u001b[39mdatetime and date objects as input.\u001b[39m\u001b[39m\"\u001b[39m\n\u001b[1;32m   1006\u001b[0m     )\n",
      "\u001b[0;31mStatementError\u001b[0m: (builtins.TypeError) SQLite DateTime type only accepts Python datetime and date objects as input.\n[SQL: INSERT INTO data (user_input, keyword, text, link, \"createAt\") VALUES (?, ?, ?, ?, ?)]\n[parameters: [{'user_input': 'dawd', 'createAt': <built-in method now of type object at 0x10749c978>, 'link': '11', 'keyword': 'dawd', 'text': '0000'}]]"
     ]
    }
   ],
   "source": [
    "for data in data_list:\n",
    "            save_multiple_data(\n",
    "                    \n",
    "                keyword=data[\"keywords\"],\n",
    "                user_input=\"dawd\",\n",
    "                data_list=data[\"contents\"],\n",
    "            )\n"
   ]
  },
  {
   "cell_type": "code",
   "execution_count": 1,
   "metadata": {},
   "outputs": [],
   "source": [
    "import sys\n",
    "sys.path.append(\"..\")\n",
    "from bbabam.modules.crawling_module.crawling import POICrawl, PathCrawl\n"
   ]
  },
  {
   "cell_type": "code",
   "execution_count": 2,
   "metadata": {},
   "outputs": [],
   "source": [
    "crawler = POICrawl()\n"
   ]
  },
  {
   "cell_type": "code",
   "execution_count": 3,
   "metadata": {},
   "outputs": [],
   "source": [
    "\n",
    "\n",
    "place_data = crawler.forward(\n",
    "            [\"챔프스페이스 커피로스터즈\"], on_print_message= lambda x : x,\n",
    "        )\n"
   ]
  },
  {
   "cell_type": "code",
   "execution_count": 4,
   "metadata": {},
   "outputs": [],
   "source": [
    "import numpy as np\n",
    "import math\n"
   ]
  },
  {
   "cell_type": "code",
   "execution_count": 5,
   "metadata": {},
   "outputs": [],
   "source": [
    "place_data[0][\"name\"]"
   ]
  },
  {
   "cell_type": "code",
   "execution_count": 6,
   "metadata": {},
   "outputs": [
    {
     "data": {
      "text/plain": [
       "False"
      ]
     },
     "execution_count": 6,
     "metadata": {},
     "output_type": "execute_result"
    }
   ],
   "source": [
    "isinstance(place_data[0][\"name\"], float)"
   ]
  }
 ],
 "metadata": {
  "kernelspec": {
   "display_name": "Python 3",
   "language": "python",
   "name": "python3"
  },
  "language_info": {
   "codemirror_mode": {
    "name": "ipython",
    "version": 3
   },
   "file_extension": ".py",
   "mimetype": "text/x-python",
   "name": "python",
   "nbconvert_exporter": "python",
   "pygments_lexer": "ipython3",
   "version": "3.11.4"
  },
  "orig_nbformat": 4
 },
 "nbformat": 4,
 "nbformat_minor": 2
}
